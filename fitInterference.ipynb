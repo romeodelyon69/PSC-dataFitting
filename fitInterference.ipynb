{
 "cells": [
  {
   "cell_type": "code",
   "execution_count": null,
   "metadata": {},
   "outputs": [],
   "source": [
    "import numpy as np\n",
    "import pandas as pd\n",
    "from scipy.optimize import curve_fit\n",
    "import matplotlib.pyplot as plt\n",
    "\n"
   ]
  },
  {
   "cell_type": "code",
   "execution_count": null,
   "metadata": {},
   "outputs": [],
   "source": [
    "# Charger les données depuis un fichier CSV\n",
    "data = pd.read_csv(\"votre_fichier.csv\")  # Remplacez par le chemin vers votre fichier\n",
    "temps = data['temps'].values\n",
    "intensite = data['intensite'].values\n",
    "\n"
   ]
  },
  {
   "cell_type": "code",
   "execution_count": null,
   "metadata": {},
   "outputs": [],
   "source": [
    "lb = 550\n",
    "# Définir le modèle\n",
    "def intensite_modele(t, w, phi, amplitude):\n",
    "    return 1 + np.cos(np.cos(w *2*np.pi * t + phi) * (2 * np.pi * amplitude / lb))\n",
    "\n"
   ]
  },
  {
   "cell_type": "code",
   "execution_count": null,
   "metadata": {},
   "outputs": [],
   "source": [
    "# Initialiser les paramètres (estimation)\n",
    "parametres_initiaux = [100, 0, 1000]  # [w, phi, amplitude]\n",
    "\n",
    "# Effectuer l'ajustement des paramètres\n",
    "params_opt, params_cov = curve_fit(intensite_modele, temps, intensite, p0=parametres_initiaux)\n",
    "\n",
    "# Extraire les paramètres optimaux\n",
    "w_opt, phi_opt, amplitude_opt, lambda_opt = params_opt\n",
    "\n",
    "# Afficher les résultats\n",
    "print(\"Paramètres optimisés :\")\n",
    "print(f\"w = {w_opt}\")\n",
    "print(f\"phi = {phi_opt}\")\n",
    "print(f\"amplitude = {amplitude_opt}\")\n",
    "print(f\"lambda = {lambda_opt}\")\n",
    "\n",
    "# Tracer les données et le modèle ajusté\n",
    "temps_modele = np.linspace(min(temps), max(temps), 1000)\n",
    "intensite_modele_opt = intensite_modele(temps_modele, w_opt, phi_opt, amplitude_opt, lambda_opt)\n",
    "\n",
    "plt.scatter(temps, intensite, label=\"Données\", color='red')\n",
    "plt.plot(temps_modele, intensite_modele_opt, label=\"Modèle ajusté\", color='blue')\n",
    "plt.xlabel(\"Temps\")\n",
    "plt.ylabel(\"Intensité lumineuse\")\n",
    "plt.legend()\n",
    "plt.title(\"Régression du modèle d'interférence\")\n",
    "plt.show()"
   ]
  }
 ],
 "metadata": {
  "language_info": {
   "name": "python"
  }
 },
 "nbformat": 4,
 "nbformat_minor": 2
}
